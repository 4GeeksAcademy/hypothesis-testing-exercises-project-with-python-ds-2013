{
 "cells": [
  {
   "cell_type": "markdown",
   "metadata": {},
   "source": [
    "## Example 1: \n",
    "The Department of Natural Resources (DNR) received a complaint from recreational fishermen that a community was releasing sewage into the river where they fished.\n",
    "These types of releases lower the level of dissolved oxygen in the river and hence cause damage to the fish residing in the river. An inspector from the DNR designs a study to investigate the fishermen’s claim.\n",
    "\n",
    "Fifteen water samples are selected at locations on the river upstream from the community and fifteen samples are selected downstream from the community. The dissolved oxygen readings in parts per million\n",
    "(ppm) are given in the following data:\n",
    "\n",
    "$$\n",
    "\\text{Upstream} = [5.2,4.8,5.1,5.0,4.9,4.8,5.0,4.7,4.7,5.0,4.6,5.2,5.0,4.9,4.7]\n",
    "$$\n",
    "\n",
    "$$\n",
    "\\text{Downstream} = [3.2,3.4,3.7,3.9,3.6,3.8,3.9,3.6,4.1,3.3,4.5,3.7,3.9,3.8,3.7]\n",
    "$$\n",
    "\n",
    "1. In order for the discharge to have an impact on fish health, there needs to be at least an .5 ppm reduction in the dissolved oxygen. Do the data provide sufficient evidence that there is a large enough reduction in the mean dissolved oxygen between the upstream and downstream water in the river to impact the health of the fish? \n",
    "2. Do the required conditions to use the test in part (1) appear to be valid?\n",
    "3. What is the level of significance of the test in part (1)?\n",
    "4. Estimate the size of the difference in the mean dissolved oxygen readings for the two locations on the river using a 99\\% confidence interval."
   ]
  },
  {
   "cell_type": "code",
   "execution_count": 1,
   "metadata": {},
   "outputs": [
    {
     "name": "stdout",
     "output_type": "stream",
     "text": [
      "1. Is there a significant reduction in dissolved oxygen greater than 0.5 ppm?\n",
      "   - T-statistic: 6.9625034501699785\n",
      "   - Critical t-value at alpha=0.01: 2.4671400979674316\n",
      "   - Is the reduction significant? True\n",
      "\n",
      "2. Validity of Test Conditions:\n",
      "   - Normality assumption: Based on sample size, assumed to be met.\n",
      "   - Independence and homogeneity of variances: Assumed to be met based on the given information.\n",
      "\n",
      "3. Level of Significance:\n",
      "   - Alpha (Level of Significance): 0.01\n",
      "\n",
      "4. 99% Confidence Interval for the Difference in Means:\n",
      "   - Confidence Interval (Lower): 0.9304355355680579\n",
      "   - Confidence Interval (Upper): 1.402897797765276\n"
     ]
    }
   ],
   "source": [
    "import numpy as np \n",
    "from scipy import stats\n",
    "\n",
    "upstream= np.array ([5.2, 4.8, 5.1, 5.0, 4.9, 4.8, 5.0, 4.7, 4.7, 5.0, 4.6, 5.2, 5.0, 4.9, 4.7])\n",
    "downstream = np.array([3.2, 3.4, 3.7, 3.9, 3.6, 3.8, 3.9, 3.6, 4.1, 3.3, 4.5, 3.7, 3.9, 3.8, 3.7])\n",
    "\n",
    "mean_upstream= np.mean(upstream)\n",
    "mean_downstream= np.mean(downstream)\n",
    "\n",
    "std_upstream = np.std(upstream,ddof=1)\n",
    "std_downstream = np.std(downstream, ddof=1)\n",
    "\n",
    "\n",
    "t_stats= (mean_upstream - mean_downstream -0.5)/np.sqrt((std_upstream**2 / len(upstream))+(std_downstream**2 / len(downstream)))\n",
    "df = len(upstream) + len(downstream)-2\n",
    "\n",
    "t_crict= stats.t.ppf(1 - 0.01, df)\n",
    "\n",
    "is_significant= t_stats > t_crict\n",
    "\n",
    "margin_of_error = t_crict * np.sqrt((std_upstream**2 / len (upstream)) + (std_downstream**2 / len(downstream)))\n",
    "confidence_interval_lower= mean_upstream - mean_downstream - margin_of_error\n",
    "confidence_interval_upper= mean_upstream - mean_downstream + margin_of_error\n",
    "\n",
    "print(\"1. Is there a significant reduction in dissolved oxygen greater than 0.5 ppm?\")\n",
    "print(\"   - T-statistic:\", t_stats)\n",
    "print(\"   - Critical t-value at alpha=0.01:\", t_crict)\n",
    "print(\"   - Is the reduction significant?\", is_significant)\n",
    "\n",
    "print(\"\\n2. Validity of Test Conditions:\")\n",
    "print(\"   - Normality assumption: Based on sample size, assumed to be met.\")\n",
    "print(\"   - Independence and homogeneity of variances: Assumed to be met based on the given information.\")\n",
    "\n",
    "print(\"\\n3. Level of Significance:\")\n",
    "print(\"   - Alpha (Level of Significance): 0.01\")\n",
    "\n",
    "print(\"\\n4. 99% Confidence Interval for the Difference in Means:\")\n",
    "print(\"   - Confidence Interval (Lower):\", confidence_interval_lower)\n",
    "print(\"   - Confidence Interval (Upper):\", confidence_interval_upper)"
   ]
  },
  {
   "cell_type": "markdown",
   "metadata": {},
   "source": [
    "## Example 2:\n",
    "A random sample of eight pairs of twins was randomly assigned to treatment A or treatment B. The data are given in the following data:\n",
    "\n",
    "$$\n",
    "\\text{Treatment A} = [48.3,44.6,49.7,40.5,54.3,55.6,45.8,35.4]\n",
    "$$\n",
    "\n",
    "$$\n",
    "\\text{Treatment B} = [43.5,43.8,53.7,43.9,54.4,54.7,45.2,34.4]\n",
    "$$\n",
    "\n",
    "1. Is there significant evidence that the two treatments are different ?.\n",
    "2. Place a 95% confidence interval on the mean difference between the responses from the two treatments."
   ]
  },
  {
   "cell_type": "code",
   "execution_count": null,
   "metadata": {},
   "outputs": [],
   "source": [
    "# TODO"
   ]
  },
  {
   "cell_type": "markdown",
   "metadata": {},
   "source": [
    "## Example 3:\n",
    "Suppose you have a class of students, and you want to test if there is a significant association between their gender and their favorite subject (Math, Science, or English). You have collected the following data:\n",
    "\n",
    "```\n",
    "# Create a pandas DataFrame with the data\n",
    "data = pd.DataFrame({\n",
    "    'Gender': ['Male', 'Female', 'Male', 'Female', 'Male', 'Female'],\n",
    "    'Favorite_Subject': ['Math', 'Science', 'Math', 'English', 'Science', 'Math']\n",
    "})\n",
    "```\n",
    "\n",
    "Perform the chi-test to see if the preferred class is independent from gender."
   ]
  },
  {
   "cell_type": "code",
   "execution_count": null,
   "metadata": {},
   "outputs": [],
   "source": [
    "## TODO"
   ]
  },
  {
   "cell_type": "markdown",
   "metadata": {},
   "source": [
    "## Example 4:\n",
    "Suppose you have 3 groups of professionals: Data Scientists, Software Engineers and Data Engineer. For each group we measure the individual salary (in thousands of dollars) per week as following:\n",
    "\n",
    "$$\n",
    "\\text{Data Scientists} = [7,3,6,6]\n",
    "$$\n",
    "\n",
    "$$\n",
    "\\text{Software Engineers} = [6,5,5,8]\n",
    "$$\n",
    "\n",
    "$$\n",
    "\\text{Data Engineer} = [4,7,6,7]\n",
    "$$\n",
    "\n",
    "Is there evidence that the average salary is different for at least one occupation ?"
   ]
  },
  {
   "cell_type": "code",
   "execution_count": 8,
   "metadata": {},
   "outputs": [],
   "source": [
    "##TODO "
   ]
  }
 ],
 "metadata": {
  "kernelspec": {
   "display_name": "Python 3",
   "language": "python",
   "name": "python3"
  },
  "language_info": {
   "codemirror_mode": {
    "name": "ipython",
    "version": 3
   },
   "file_extension": ".py",
   "mimetype": "text/x-python",
   "name": "python",
   "nbconvert_exporter": "python",
   "pygments_lexer": "ipython3",
   "version": "3.11.4"
  },
  "orig_nbformat": 4
 },
 "nbformat": 4,
 "nbformat_minor": 2
}
